{
 "cells": [
  {
   "cell_type": "code",
   "execution_count": 1,
   "metadata": {},
   "outputs": [
    {
     "name": "stdout",
     "output_type": "stream",
     "text": [
      "Populating the interactive namespace from numpy and matplotlib\n"
     ]
    }
   ],
   "source": [
    "import ipywidgets as ipw\n",
    "import numpy as np\n",
    "import pylab as pl\n",
    "import sklearn.cluster\n",
    "from sklearn import mixture\n",
    "from scipy.cluster.vq import kmeans2\n",
    "%pylab inline"
   ]
  },
  {
   "cell_type": "code",
   "execution_count": 7,
   "metadata": {},
   "outputs": [
    {
     "name": "stdout",
     "output_type": "stream",
     "text": [
      "[0.45688718 0.29592342] 5.919680457501944\n",
      "[0.05857556 0.81463042] [2.4485345  3.38335474]\n",
      "[0.6067709  0.76461024] [1.89484992 4.11927592]\n",
      "[0.59095342 0.07737632] [1.02282956 2.82998965]\n",
      "(2, 50)\n"
     ]
    },
    {
     "data": {
      "image/png": "[encoded data removed]",
      "text/plain": [
       "<Figure size 720x720 with 1 Axes>"
      ]
     },
     "metadata": {
      "needs_background": "light"
     },
     "output_type": "display_data"
    }
   ],
   "source": [
    "np.random.seed(1789)\n",
    "\n",
    "pl.figure(figsize = (10,10))\n",
    "\n",
    "k1s, k1m = np.random.rand(2), random.rand()*10\n",
    "print (k1s, k1m)\n",
    "k1 = (k1s*np.random.randn(50,2)+k1m).T\n",
    "k2s, k2m = np.random.rand(2), random.rand(2)*5\n",
    "print (k2s, k2m)\n",
    "k2 = (k2s*np.random.randn(50,2)+k2m).T\n",
    "k3s, k3m = np.random.rand(2), random.rand(2)*5\n",
    "print (k3s, k3m)\n",
    "k3 = (k3s*np.random.randn(50,2)+k3m).T\n",
    "k4s, k4m = np.random.rand(2), random.rand(2)*3\n",
    "print (k4s, k4m)\n",
    "k4 = (k4s*np.random.randn(50,2)+k4m).T\n",
    "pl.plot(k1[0], k1[1], 'o', label='1')\n",
    "pl.plot(k2[0], k2[1], 'o', label='2')\n",
    "pl.plot(k3[0], k3[1], 'o', label='3')\n",
    "pl.plot(k4[0], k4[1], 'o', label='4')\n",
    "kall = np.concatenate([k1.T, k2.T, k3.T, k4.T])\n",
    "lims = (min(min(kall[:,0]), min(kall[:,0]))-1, max(max(kall[:,0]), max(kall[:,1]))+1)\n",
    "pl.xlim(lims)\n",
    "pl.ylim(lims)\n",
    "pl.legend()\n",
    "print (k1.shape)"
   ]
  },
  {
   "cell_type": "code",
   "execution_count": 8,
   "metadata": {},
   "outputs": [],
   "source": [
    "vs = {}\n",
    "labels={}\n",
    "nclusters = range(1,26) #[1,2,3,4,5,6,8,10,13,18,25]#,32,64]\n",
    "for j,n_c in enumerate(nclusters):\n",
    "    clf = sklearn.cluster.KMeans(n_clusters=n_c)\n",
    "    labels[n_c] = clf.fit_predict(kall) #.reshape(100,2)\n",
    "    vs[n_c] = (np.sum([np.std(np.array(\n",
    "        [kall[:,0][labels[n_c]==l], kall[:,1][labels[n_c]==l]]).T - clf.cluster_centers_[l]) \\\n",
    "                      for l in labels[n_c]]))"
   ]
  },
  {
   "cell_type": "code",
   "execution_count": 9,
   "metadata": {},
   "outputs": [],
   "source": [
    "def plotclusters(n_c):    \n",
    "    pl.figure(figsize=(16,10))\n",
    "    ax = pl.subplot(122)\n",
    "    \n",
    "    for l in labels[n_c]:\n",
    "        if l in labels[n_c]:\n",
    "            pl.plot(kall.T[0][labels[n_c]==l], kall.T[1][labels[n_c]==l], '.',\n",
    "                       c=pl.cm.plasma.colors[\\\n",
    "                            (l*len(pl.cm.plasma.colors))//n_c], alpha=0.7, ms=10)\n",
    "    \n",
    "    ax.yaxis.tick_right()\n",
    "    \n",
    "    pl.axis('equal')\n",
    "    #pl.axis([lims[0], lims[1], lims[0], lims[1]])\n",
    "    pl.xlim(lims)\n",
    "    pl.ylim(lims)\n",
    "    ax2 = ax.twinx()\n",
    "    ax2.set_ylabel('y', fontsize=20)\n",
    "    pl.grid('off')\n",
    "    pl.xlabel('x', fontsize=20)\n",
    "    pl.title (\"%d K-means clusters\"%n_c)\n",
    "\n",
    "    ax1 = pl.subplot(121)\n",
    "    pl.ylabel(\"sum of inter-cluster vairances\", fontsize=20)\n",
    "    pl.xlabel(\"N clusters\", fontsize=20)\n",
    "    pl.plot(vs.keys(), vs.values(), 'o')\n",
    "    pl.plot(vs.keys(), vs.values(), '-')\n",
    "    pl.plot(n_c, list(vs.values())[n_c-1], 'rX', ms=14)\n",
    "\n",
    "    pl.xlim(1,max(nclusters))\n",
    "    pl.ylim(0,350)\n",
    "    "
   ]
  },
  {
   "cell_type": "code",
   "execution_count": 10,
   "metadata": {},
   "outputs": [
    {
     "data": {
      "application/vnd.jupyter.widget-view+json": {
       "model_id": "cad6c17a57d94d0192a1bdd7201cc3b3",
       "version_major": 2,
       "version_minor": 0
      },
      "text/plain": [
       "interactive(children=(IntSlider(value=8, description='nclusters', max=24, min=-8), Output()), _dom_classes=('w…"
      ]
     },
     "metadata": {},
     "output_type": "display_data"
    }
   ],
   "source": [
    "@ipw.interact(nclusters=8)\n",
    "def showclusters(nclusters=2):\n",
    "    if nclusters > 0:\n",
    "        plotclusters(nclusters)"
   ]
  },
  {
   "cell_type": "code",
   "execution_count": 7,
   "metadata": {},
   "outputs": [
    {
     "ename": "IndexError",
     "evalue": "list index out of range",
     "output_type": "error",
     "traceback": [
      "\u001b[0;31m---------------------------------------------------------------------------\u001b[0m",
      "\u001b[0;31mIndexError\u001b[0m                                Traceback (most recent call last)",
      "\u001b[0;32m<ipython-input-7-eb3f792a4890>\u001b[0m in \u001b[0;36m<module>\u001b[0;34m\u001b[0m\n\u001b[1;32m      1\u001b[0m \u001b[0ma\u001b[0m \u001b[0;34m=\u001b[0m \u001b[0mpl\u001b[0m\u001b[0;34m.\u001b[0m\u001b[0mcm\u001b[0m\u001b[0;34m.\u001b[0m\u001b[0mviridis\u001b[0m\u001b[0;34m\u001b[0m\u001b[0m\n\u001b[0;32m----> 2\u001b[0;31m \u001b[0ma\u001b[0m\u001b[0;34m.\u001b[0m\u001b[0mcolors\u001b[0m\u001b[0;34m[\u001b[0m\u001b[0;36m256\u001b[0m\u001b[0;34m]\u001b[0m\u001b[0;34m\u001b[0m\u001b[0m\n\u001b[0m",
      "\u001b[0;31mIndexError\u001b[0m: list index out of range"
     ]
    }
   ],
   "source": [
    "a = pl.cm.viridis\n",
    "a.colors[256]"
   ]
  },
  {
   "cell_type": "code",
   "execution_count": null,
   "metadata": {},
   "outputs": [],
   "source": [
    "list(vs.keys())[0]"
   ]
  },
  {
   "cell_type": "code",
   "execution_count": 26,
   "metadata": {},
   "outputs": [
    {
     "data": {
      "text/plain": [
       "{1: 325.54772151335453,\n",
       " 2: 126.45958001782613,\n",
       " 3: 98.48685660144936,\n",
       " 4: 82.23139934302861,\n",
       " 5: 73.52553096038514,\n",
       " 6: 66.49094135643563,\n",
       " 7: 60.74002696833381,\n",
       " 8: 54.78880819579213,\n",
       " 9: 49.96642594947662,\n",
       " 10: 48.306191867119665,\n",
       " 11: 44.43291299134611,\n",
       " 12: 42.38952198807966,\n",
       " 13: 41.31545161155368,\n",
       " 14: 38.49070200482068,\n",
       " 15: 36.96009711122045,\n",
       " 16: 35.754478417401685,\n",
       " 17: 33.998611406046635,\n",
       " 18: 32.910349346442665,\n",
       " 19: 32.156865740327895,\n",
       " 20: 31.701253066407848,\n",
       " 21: 30.05229531052616,\n",
       " 22: 27.999849464242892,\n",
       " 23: 27.445845064377295,\n",
       " 24: 27.102886085020188,\n",
       " 25: 25.94225176563503}"
      ]
     },
     "execution_count": 26,
     "metadata": {},
     "output_type": "execute_result"
    }
   ],
   "source": [
    "vs"
   ]
  },
  {
   "cell_type": "code",
   "execution_count": null,
   "metadata": {},
   "outputs": [],
   "source": []
  },
  {
   "cell_type": "code",
   "execution_count": null,
   "metadata": {},
   "outputs": [],
   "source": []
  }
 ],
 "metadata": {
  "kernelspec": {
   "display_name": "Py3 + geopandas",
   "language": "python",
   "name": "gpd"
  },
  "language_info": {
   "codemirror_mode": {
    "name": "ipython",
    "version": 3
   },
   "file_extension": ".py",
   "mimetype": "text/x-python",
   "name": "python",
   "nbconvert_exporter": "python",
   "pygments_lexer": "ipython3",
   "version": "3.6.6"
  }
 },
 "nbformat": 4,
 "nbformat_minor": 2
}
